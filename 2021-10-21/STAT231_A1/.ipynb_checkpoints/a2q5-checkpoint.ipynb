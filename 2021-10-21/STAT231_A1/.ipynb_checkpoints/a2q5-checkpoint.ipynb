{
 "cells": [
  {
   "cell_type": "code",
   "execution_count": null,
   "id": "278735f9-2a96-4894-a9b3-f4a4b8d3dab7",
   "metadata": {},
   "outputs": [],
   "source": [
    "skewness <- function(x) {(sum((x - mean(x))^3)/length(x))/(sum((x - mean(x))^2)/length(x))^(3/2)}\n",
    "\n",
    "kurtosis <- function(x) {(sum((x - mean(x))^4)/length(x))/(sum((x - mean(x))^2)/length(x))^2}"
   ]
  },
  {
   "cell_type": "code",
   "execution_count": null,
   "id": "2b530db3-9926-4abc-a01d-4cc2b1f11678",
   "metadata": {},
   "outputs": [],
   "source": [
    "2.b\n",
    "\n",
    "dataset20816215$tweet.gap.hour <- dataset20816215$tweet.gap / 3600\n",
    "\n",
    "mean(dataset20816215$tweet.gap.hour)\n",
    "\n",
    "mean(dataset20816215$tweet.gap.hour[dataset20816215$first.tweet == 0])\n",
    "\n",
    "sd(dataset20816215$tweet.gap.hour)\n",
    "\n",
    "sd(dataset20816215$tweet.gap.hour[dataset20816215$first.tweet == 0])\n",
    "\n",
    "skewness(dataset20816215$tweet.gap.hour)\n",
    "\n",
    "skewness(dataset20816215$tweet.gap.hour[dataset20816215$first.tweet == 0])\n",
    "\n",
    "summary(dataset20816215$tweet.gap.hour)\n",
    "\n",
    "summary(dataset20816215$tweet.gap.hour[dataset20816215$first.tweet == 0])"
   ]
  },
  {
   "cell_type": "code",
   "execution_count": null,
   "id": "b118cf8e-0548-4020-814f-c68b84a6c55d",
   "metadata": {},
   "outputs": [],
   "source": [
    "2.c\n",
    "library(MASS)\n",
    "\n",
    "truehist(dataset20816215$tweet.gap.hour, xlab = \"gap between tweets (in hour)\", ylab = \"Relative Frequency\", main = \"Relative frequency histogram of hours between tweets\", las = 1, col = \"dodgerblue3\", nbins = 30)\n",
    "\n",
    "curve(dexp(x, 1/mean(dataset20816215$tweet.gap.hour)), col = \"red\", add = TRUE, lwd = 2.5)\n",
    "\n",
    "truehist(dataset20816215$tweet.gap.hour[dataset20816215$first.tweet == 0], xlab = \"gap between tweets (in hour, excluding first of day)\", ylab = \"Relative Frequency\", main = \"Relative frequency histogram of hours between tweets, excluding first of day\", las = 1, col = \"dodgerblue3\", nbins = 30)\n",
    "\n",
    "curve(dexp(x, 1/mean(dataset20816215$tweet.gap.hour[dataset20816215$first.tweet == 0])), col = \"red\", add = TRUE, lwd = 2.5)"
   ]
  },
  {
   "cell_type": "code",
   "execution_count": null,
   "id": "2065f7ee-a900-46aa-8bee-90d59235e44e",
   "metadata": {},
   "outputs": [],
   "source": [
    "2.e\n",
    "\n",
    "plot(ecdf(dataset20816215$tweet.gap.hour), xlab = \"gap between tweets (in hour)\", ylab = \"Cumulative Probability\", main = \"ecdf of gap between tweets (in hour)\", las = 1, col = \"navy\", lwd = 2, pch = NA, xlim = c(0, max(dataset20816215$tweet.gap.hour)))\n",
    "\n",
    "curve(pexp(x, 1/mean(dataset20816215$tweet.gap.hour)), col = \"red\", add = TRUE, lwd = 2, lty = 2)\n",
    "\n",
    "legend(\"bottomright\", legend = c(\"ecdf\", \"CDF\"), col = c(\"navy\", \"red\"), lty = c(1, 2))\n",
    "\n",
    "plot(ecdf(dataset20816215$tweet.gap.hour[dataset20816215$first.tweet == 0]), xlab = \"gap between tweets (in hour, excluding first of day)\", ylab = \"Cumulative Probability\", main = \"ecdf of gap between tweets (in hour, excluding first of day)\", las = 1, col = \"navy\", lwd = 2, pch = NA, xlim = c(0, max(dataset20816215$tweet.gap.hour[dataset20816215$first.tweet == 0])))\n",
    "\n",
    "curve(pexp(x, 1/mean(dataset20816215$tweet.gap.hour[dataset20816215$first.tweet == 0])), col = \"red\", add = TRUE, lwd = 2, lty = 2)\n",
    "\n",
    "legend(\"bottomright\", legend = c(\"ecdf\", \"CDF\"), col = c(\"navy\", \"red\"), lty = c(1, 2))"
   ]
  },
  {
   "cell_type": "code",
   "execution_count": null,
   "id": "2f323db9-47a5-4285-a23c-a6994395ed27",
   "metadata": {},
   "outputs": [],
   "source": [
    "2.g\n",
    "ExpRLF <- function(theta, n, thetahat) {exp(n*log(thetahat/theta) + n*(1-thetahat/theta))}\n",
    "\n",
    "n <- length(dataset20816215$tweet.gap.hour[dataset20816215$first.tweet == 0])\n",
    "\n",
    "thetahat <- mean(dataset20816215$tweet.gap.hour[dataset20816215$first.tweet == 0])\n",
    "\n",
    "theta <-seq(1.5, 3, 0.001)\n",
    "\n",
    "plot(theta, ExpRLF(theta, n, thetahat) , xlab = expression(theta), ylab = expression(paste(\"R(\",theta,\")\")), type = \"l\", lwd = 2, , main = \"Exponential relative likelihood function\", las = 1)\n"
   ]
  },
  {
   "cell_type": "code",
   "execution_count": null,
   "id": "91c79d4b-dba6-42d2-8c61-43f5ebbfdf3a",
   "metadata": {},
   "outputs": [],
   "source": [
    "\n",
    "\n"
   ]
  },
  {
   "cell_type": "code",
   "execution_count": null,
   "id": "a014a1ad-a6b5-4b39-b6e8-4a653f0ddf92",
   "metadata": {},
   "outputs": [],
   "source": []
  }
 ],
 "metadata": {
  "kernelspec": {
   "display_name": "R 4.0.2",
   "language": "R",
   "name": "uw-r-4-0-2-ivybridge"
  },
  "language_info": {
   "codemirror_mode": "r",
   "file_extension": ".r",
   "mimetype": "text/x-r-source",
   "name": "R",
   "pygments_lexer": "r",
   "version": "4.0.2"
  }
 },
 "nbformat": 4,
 "nbformat_minor": 5
}
