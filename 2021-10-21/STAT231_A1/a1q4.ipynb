{
 "cells": [
  {
   "cell_type": "code",
   "execution_count": 17,
   "id": "563954e3-96a7-400d-9a60-87ef6cebcea0",
   "metadata": {},
   "outputs": [
    {
     "ename": "ERROR",
     "evalue": "Error in twitter_data.objects(): could not find function \"twitter_data.objects\"\n",
     "output_type": "error",
     "traceback": [
      "Error in twitter_data.objects(): could not find function \"twitter_data.objects\"\nTraceback:\n",
      "1. print(twitter_data.objects())"
     ]
    }
   ],
   "source": [
    "twitter_data<-read.csv('dataset20816215.csv',encoding=\"UTF-8\")\n",
    "\n"
   ]
  },
  {
   "cell_type": "code",
   "execution_count": null,
   "id": "f97ba1ab-a709-4da8-9f38-fa06c5834e0a",
   "metadata": {},
   "outputs": [],
   "source": []
  },
  {
   "cell_type": "code",
   "execution_count": null,
   "id": "999b1428-725f-4d4d-930b-c2f417b6088a",
   "metadata": {},
   "outputs": [],
   "source": []
  }
 ],
 "metadata": {
  "kernelspec": {
   "display_name": "R 4.0.2",
   "language": "R",
   "name": "uw-r-4-0-2-ivybridge"
  },
  "language_info": {
   "codemirror_mode": "r",
   "file_extension": ".r",
   "mimetype": "text/x-r-source",
   "name": "R",
   "pygments_lexer": "r",
   "version": "4.0.2"
  }
 },
 "nbformat": 4,
 "nbformat_minor": 5
}
