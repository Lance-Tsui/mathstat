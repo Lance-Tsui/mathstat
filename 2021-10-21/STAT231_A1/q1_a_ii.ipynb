{
 "cells": [
  {
   "cell_type": "code",
   "execution_count": 1,
   "id": "2602f07a-0e92-4753-9132-5038f4f7a288",
   "metadata": {},
   "outputs": [
    {
     "data": {
      "text/html": [
       "0.153712567427155"
      ],
      "text/latex": [
       "0.153712567427155"
      ],
      "text/markdown": [
       "0.153712567427155"
      ],
      "text/plain": [
       "[1] 0.1537126"
      ]
     },
     "metadata": {},
     "output_type": "display_data"
    },
    {
     "data": {
      "text/html": [
       "0.154491346928478"
      ],
      "text/latex": [
       "0.154491346928478"
      ],
      "text/markdown": [
       "0.154491346928478"
      ],
      "text/plain": [
       "[1] 0.1544913"
      ]
     },
     "metadata": {},
     "output_type": "display_data"
    },
    {
     "data": {
      "text/html": [
       "0.943454033540937"
      ],
      "text/latex": [
       "0.943454033540937"
      ],
      "text/markdown": [
       "0.943454033540937"
      ],
      "text/plain": [
       "[1] 0.943454"
      ]
     },
     "metadata": {},
     "output_type": "display_data"
    }
   ],
   "source": [
    "# binomial distribution smaller than or equal to 8\n",
    "pbinom(8,1200,0.01) \n",
    "\n",
    "# binomial distribution larger than or equal to 16\n",
    "1-pbinom(15,1200,0.01) \n",
    "\n",
    "# binomial distribution 6,7,8 ... 18\n",
    "pbinom(18,1200,0.01) - pbinom(5,1200,0.01) \n"
   ]
  },
  {
   "cell_type": "code",
   "execution_count": 2,
   "id": "649a32ca-8f57-4e23-8cc5-9e9cb04591af",
   "metadata": {},
   "outputs": [
    {
     "data": {
      "text/html": [
       "0.80001699980465"
      ],
      "text/latex": [
       "0.80001699980465"
      ],
      "text/markdown": [
       "0.80001699980465"
      ],
      "text/plain": [
       "[1] 0.800017"
      ]
     },
     "metadata": {},
     "output_type": "display_data"
    }
   ],
   "source": [
    "pnorm(1.2816)-pnorm(-1.2816)"
   ]
  },
  {
   "cell_type": "code",
   "execution_count": 3,
   "id": "2cd42ed8-4aec-4b5b-a5fd-4c0287991ab5",
   "metadata": {},
   "outputs": [
    {
     "data": {
      "text/html": [
       "0.0292526880769611"
      ],
      "text/latex": [
       "0.0292526880769611"
      ],
      "text/markdown": [
       "0.0292526880769611"
      ],
      "text/plain": [
       "[1] 0.02925269"
      ]
     },
     "metadata": {},
     "output_type": "display_data"
    },
    {
     "data": {
      "text/html": [
       "0.083458472934663"
      ],
      "text/latex": [
       "0.083458472934663"
      ],
      "text/markdown": [
       "0.083458472934663"
      ],
      "text/plain": [
       "[1] 0.08345847"
      ]
     },
     "metadata": {},
     "output_type": "display_data"
    },
    {
     "data": {
      "text/html": [
       "0.0373776604607269"
      ],
      "text/latex": [
       "0.0373776604607269"
      ],
      "text/markdown": [
       "0.0373776604607269"
      ],
      "text/plain": [
       "[1] 0.03737766"
      ]
     },
     "metadata": {},
     "output_type": "display_data"
    }
   ],
   "source": [
    "# poisson less than 5, so less than or equal to 4\n",
    "ppois(4,10)\n",
    "\n",
    "# poisson larger than 14, so 1 - ppois(14,10)\n",
    "1-ppois(14,10)\n",
    "\n",
    "# |Y-10| >= 7, implies Y either <=3 or > 16\n",
    "ppois(3,10) + 1 - ppois(16,10)"
   ]
  },
  {
   "cell_type": "code",
   "execution_count": 4,
   "id": "f2cd9abf-f7e8-4a89-aee5-6457997a7000",
   "metadata": {},
   "outputs": [
    {
     "data": {
      "text/html": [
       "0.979997447966403"
      ],
      "text/latex": [
       "0.979997447966403"
      ],
      "text/markdown": [
       "0.979997447966403"
      ],
      "text/plain": [
       "[1] 0.9799974"
      ]
     },
     "metadata": {},
     "output_type": "display_data"
    }
   ],
   "source": [
    "pnorm(2.3263)-pnorm(-2.3263)"
   ]
  },
  {
   "cell_type": "code",
   "execution_count": 5,
   "id": "da0d8723-b393-4b88-8667-64314a686d1d",
   "metadata": {},
   "outputs": [
    {
     "data": {
      "text/html": [
       "0.158655253931457"
      ],
      "text/latex": [
       "0.158655253931457"
      ],
      "text/markdown": [
       "0.158655253931457"
      ],
      "text/plain": [
       "[1] 0.1586553"
      ]
     },
     "metadata": {},
     "output_type": "display_data"
    },
    {
     "data": {
      "text/html": [
       "0.261117319636473"
      ],
      "text/latex": [
       "0.261117319636473"
      ],
      "text/markdown": [
       "0.261117319636473"
      ],
      "text/plain": [
       "[1] 0.2611173"
      ]
     },
     "metadata": {},
     "output_type": "display_data"
    },
    {
     "data": {
      "text/html": [
       "49.8624798386508"
      ],
      "text/latex": [
       "49.8624798386508"
      ],
      "text/markdown": [
       "49.8624798386508"
      ],
      "text/plain": [
       "[1] 49.86248"
      ]
     },
     "metadata": {},
     "output_type": "display_data"
    }
   ],
   "source": [
    "# i.\n",
    "# Y >= 69, mean is 60 and sd is 9\n",
    "1-pnorm(69,60,9)\n",
    "\n",
    "# |Y-60| <= 3 means Y is between 57 and 63\n",
    "pnorm(63,60,9)-pnorm(57,60,9)\n",
    "\n",
    "# ii.\n",
    "# P|Y>=a| = 0.87, which means P|Y<a| = 0.13\n",
    "qnorm(0.13,60,9)"
   ]
  },
  {
   "cell_type": "code",
   "execution_count": 6,
   "id": "58d04b1a-3162-4bad-bd22-fb0f603069f5",
   "metadata": {},
   "outputs": [
    {
     "data": {
      "text/html": [
       "0.853605591406474"
      ],
      "text/latex": [
       "0.853605591406474"
      ],
      "text/markdown": [
       "0.853605591406474"
      ],
      "text/plain": [
       "[1] 0.8536056"
      ]
     },
     "metadata": {},
     "output_type": "display_data"
    }
   ],
   "source": [
    "# iii.\n",
    "# P(59 <= Y <= 62)\n",
    "pnorm(62,60,0.9)-pnorm(59,60,0.9)"
   ]
  },
  {
   "cell_type": "code",
   "execution_count": 7,
   "id": "2139f159-5c55-44a0-b796-342010b12139",
   "metadata": {},
   "outputs": [
    {
     "data": {
      "text/html": [
       "0.263597138115727"
      ],
      "text/latex": [
       "0.263597138115727"
      ],
      "text/markdown": [
       "0.263597138115727"
      ],
      "text/plain": [
       "[1] 0.2635971"
      ]
     },
     "metadata": {},
     "output_type": "display_data"
    }
   ],
   "source": [
    "# P(Y>=4) = 1 - P(Y<=4)\n",
    "1-pexp(4,1/3)"
   ]
  },
  {
   "cell_type": "code",
   "execution_count": 8,
   "id": "a7dc4c22-9ca6-423b-a92a-26ca3853484c",
   "metadata": {},
   "outputs": [
    {
     "data": {
      "text/html": [
       "0.950004209703559"
      ],
      "text/latex": [
       "0.950004209703559"
      ],
      "text/markdown": [
       "0.950004209703559"
      ],
      "text/plain": [
       "[1] 0.9500042"
      ]
     },
     "metadata": {},
     "output_type": "display_data"
    }
   ],
   "source": [
    "# P(|Z| <= 1.96)\n",
    "pnorm(1.96)-pnorm(-1.96)"
   ]
  },
  {
   "cell_type": "code",
   "execution_count": null,
   "id": "63e0a5cd-9d29-4e84-b839-2fe3dbd48379",
   "metadata": {},
   "outputs": [],
   "source": []
  },
  {
   "cell_type": "code",
   "execution_count": null,
   "id": "600cdb08-14db-4154-8bb4-1b29f425631f",
   "metadata": {},
   "outputs": [],
   "source": []
  }
 ],
 "metadata": {
  "kernelspec": {
   "display_name": "R 4.0.2",
   "language": "R",
   "name": "uw-r-4-0-2-ivybridge"
  },
  "language_info": {
   "codemirror_mode": "r",
   "file_extension": ".r",
   "mimetype": "text/x-r-source",
   "name": "R",
   "pygments_lexer": "r",
   "version": "4.0.2"
  }
 },
 "nbformat": 4,
 "nbformat_minor": 5
}
