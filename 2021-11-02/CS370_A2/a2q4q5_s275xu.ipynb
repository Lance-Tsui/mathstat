{
 "cells": [
  {
   "cell_type": "markdown",
   "metadata": {},
   "source": [
    "# A2: Q4 and Q5"
   ]
  },
  {
   "cell_type": "code",
   "execution_count": 1,
   "metadata": {},
   "outputs": [],
   "source": [
    "import numpy as np\n",
    "from scipy.sparse import dok_matrix\n",
    "from scipy.sparse import csc_matrix\n",
    "from copy import deepcopy\n",
    "import matplotlib.pyplot as plt"
   ]
  },
  {
   "cell_type": "markdown",
   "metadata": {},
   "source": [
    "# A2Q4a: `SparseMatMult`"
   ]
  },
  {
   "cell_type": "code",
   "execution_count": 2,
   "metadata": {},
   "outputs": [],
   "source": [
    "def SparseMatMult(G, x):\n",
    "    '''\n",
    "      y = SparseMatMult(G, x)\n",
    "      \n",
    "      Multiplies a vector (x) by a sparse matrix G,\n",
    "      such that y = G @ x .\n",
    "      \n",
    "      Inputs:\n",
    "        G is an NxM dictionary-of-keys (dok) sparse matrix\n",
    "        x is an M-vector\n",
    "      \n",
    "      Output:\n",
    "        y is an N-vector\n",
    "    '''\n",
    "    rows,cols = G.nonzero()\n",
    "    Nrows,Ncols = np.shape(G)\n",
    "    y = np.zeros(Nrows)\n",
    "    \n",
    "    # === YOUR CODE HERE ===\n",
    "    C = [[0] * Ncols for i in range(Nrows)]\n",
    "    for i in range(Nrows):\n",
    "        for j in range(Ncols):\n",
    "            C[i][j] = G[i,j]\n",
    "    for i in range(Nrows):\n",
    "        for j in range(Ncols):  \n",
    "            y[i] += C[i][j] * x[j] \n",
    "    return y"
   ]
  },
  {
   "cell_type": "code",
   "execution_count": 3,
   "metadata": {},
   "outputs": [
    {
     "name": "stdout",
     "output_type": "stream",
     "text": [
      "y = [ 0.1 -0.3  0.4]\n",
      "Answer should be [ 0.1 -0.3  0.4]\n"
     ]
    }
   ],
   "source": [
    "# Simple test\n",
    "#     [1  0  0]      [ 0.1 ]\n",
    "# A = [0  0 -1]  b = [ 0.2 ]\n",
    "#     [0  2  0]      [ 0.3 ]\n",
    "A = dok_matrix((3,3), dtype=np.float32)\n",
    "A[0,0] = 1.\n",
    "A[1,2] = -1.\n",
    "A[2,1] = 2.\n",
    "b = np.array([0.1, 0.2, 0.3])\n",
    "y = SparseMatMult(A, b)\n",
    "print(f'y = {y}')\n",
    "print(f'Answer should be [ 0.1 -0.3  0.4]')"
   ]
  },
  {
   "cell_type": "markdown",
   "metadata": {},
   "source": [
    "# A2Q4b: `PageRank`"
   ]
  },
  {
   "cell_type": "code",
   "execution_count": 4,
   "metadata": {},
   "outputs": [],
   "source": [
    "\n",
    "def PageRank(G, alpha):\n",
    "    '''\n",
    "     p, iters = PageRank(G, alpha)\n",
    "\n",
    "     Computes the Google Page-rank for the network in the adjacency matrix G.\n",
    "     \n",
    "     Note: This function never forms a full RxR matrix, where R is the number\n",
    "           of node in the network.\n",
    "\n",
    "     Input\n",
    "       G     is an RxR adjacency matrix, G[i,j] = 1 iff node j projects to node i\n",
    "             Note: G must be a dictionary-of-keys (dok) sparse matrix\n",
    "       alpha is a scalar between 0 and 1\n",
    "\n",
    "     Output\n",
    "       p     is a probability vector containing the Page-rank of each node\n",
    "       iters is the number of iterations used to achieve a change tolerance\n",
    "             of 1e-8 (changes to elements of p are all smaller than 1e-8)\n",
    "    '''\n",
    "    R = np.shape(G)[0]\n",
    "    rows,cols = G.nonzero()\n",
    "    iters = 0\n",
    "\n",
    "    # === YOUR CODE HERE ===\n",
    "    colsum = np.zeros(R)\n",
    "    \n",
    "    zipped = []\n",
    "    for m in range(len(rows)):\n",
    "        zipped.append([rows[m],cols[m]])\n",
    "        \n",
    "    for r, c in zipped:\n",
    "        colsum[c] += G[r,c]   \n",
    "    \n",
    "    \n",
    "    # vector A\n",
    "    A = G\n",
    "    for r, c in zipped:\n",
    "        A[r,c] /= colsum[c]    \n",
    "   \n",
    "    d=[]\n",
    "    \n",
    "    for s in colsum:\n",
    "        if s==0:\n",
    "            d.append(1.)\n",
    "        else:\n",
    "            d.append(0.)\n",
    "    \n",
    "    \n",
    "    e = np.ones(R, dtype=float)\n",
    "    \n",
    "    # vector b\n",
    "    b = np.ones(R, dtype=float) / R \n",
    "    \n",
    "    \n",
    "    error = 100\n",
    "    \n",
    "    \n",
    "    while error > 0.00000001:\n",
    "        \n",
    "        \n",
    "        bo = alpha*(SparseMatMult(A, b) + e*(d*b)/R) + (1-alpha)/R*e\n",
    "        \n",
    "        error = np.sum(abs(b-bo))\n",
    "\n",
    "        b = bo\n",
    "        \n",
    "        iters = iters + 1\n",
    "    \n",
    "    p = b\n",
    "    \n",
    "    return p, iters\n",
    "\n"
   ]
  },
  {
   "cell_type": "code",
   "execution_count": null,
   "metadata": {},
   "outputs": [],
   "source": []
  },
  {
   "cell_type": "code",
   "execution_count": null,
   "metadata": {},
   "outputs": [],
   "source": []
  },
  {
   "cell_type": "code",
   "execution_count": null,
   "metadata": {},
   "outputs": [],
   "source": []
  },
  {
   "cell_type": "markdown",
   "metadata": {
    "tags": []
   },
   "source": [
    "# A2Q5: Illegal Trading Network"
   ]
  },
  {
   "cell_type": "markdown",
   "metadata": {},
   "source": [
    "## (a) Create sparse matrix"
   ]
  },
  {
   "cell_type": "code",
   "execution_count": 5,
   "metadata": {},
   "outputs": [
    {
     "name": "stdout",
     "output_type": "stream",
     "text": [
      "y = [0.05166667 0.08666666 0.13416667 0.04666667 0.0525     0.1075\n",
      " 0.1375     0.08       0.12083333 0.04666667 0.0725     0.06333333]\n"
     ]
    }
   ],
   "source": [
    "# === YOUR CODE HERE ===\n",
    "A = dok_matrix((12,12), dtype=np.float32)\n",
    "#A[0,0] = 1\n",
    "A[0,1]=0.09\n",
    "A[0,10]=0.47\n",
    "A[0,11]=0.06\n",
    "\n",
    "A[1,0]=0.24\n",
    "#A[1,1]=1\n",
    "A[1,2]=0.13\n",
    "A[1,7]=0.06\n",
    "A[1,8]=0.19\n",
    "A[1,9]=0.42\n",
    "\n",
    "A[2,1]=0.39\n",
    "#A[2,2]=1\n",
    "A[2,3]=0.24\n",
    "A[2,5]=0.3\n",
    "A[2,6]=0.21\n",
    "A[2,7]=0.47\n",
    "\n",
    "A[3,2]=0.23\n",
    "#A[3,3]=1\n",
    "A[3,4]=0.07\n",
    "A[3,5]=0.05\n",
    "A[3,6]=0.21\n",
    "\n",
    "A[4,3]=0.2\n",
    "#A[4,4]=1\n",
    "A[4,5]=0.25\n",
    "A[4,6]=0.18\n",
    "\n",
    "A[5,2]=0.27\n",
    "A[5,3]=0.32\n",
    "A[5,4]=0.6\n",
    "#A[5,5]=1\n",
    "A[5,6]=0.1\n",
    "\n",
    "A[6,2]=0.17\n",
    "A[6,3]=0.24\n",
    "A[6,4]=0.33\n",
    "A[6,5]=0.4\n",
    "#A[6,6]=1\n",
    "A[6,7]=0.29\n",
    "A[6,8]=0.22\n",
    "\n",
    "A[7,1]=0.39\n",
    "A[7,2]=0.2\n",
    "A[7,6]=0.15\n",
    "#A[7,7]=1\n",
    "A[7,8]=0.22\n",
    "\n",
    "A[8,1]=0.09\n",
    "A[8,6]=0.15\n",
    "A[8,7]=0.18\n",
    "#A[8,8]=1\n",
    "A[8,9]=0.5\n",
    "A[8,11]=0.53\n",
    "\n",
    "A[9,1]=0.04\n",
    "A[9,8]=0.28\n",
    "#A[9,9]=1\n",
    "A[9,10]=0.24\n",
    "\n",
    "A[10,0]=0.38\n",
    "A[10,9]=0.08\n",
    "#A[10,10]=1\n",
    "A[10,11]=0.41\n",
    "\n",
    "A[11,0]=0.38\n",
    "A[11,8]=0.09\n",
    "A[11,10]=0.29\n",
    "#A[11,11]=1\n",
    "\n",
    "b = np.array([1/12, 1/12, 1/12, 1/12, 1/12, 1/12, 1/12, 1/12, 1/12, 1/12, 1/12, 1/12])\n",
    "y = SparseMatMult(A, b)\n",
    "print(f'y = {y}')"
   ]
  },
  {
   "cell_type": "markdown",
   "metadata": {},
   "source": [
    "## (b) Run PageRank on network"
   ]
  },
  {
   "cell_type": "code",
   "execution_count": 6,
   "metadata": {},
   "outputs": [
    {
     "name": "stdout",
     "output_type": "stream",
     "text": [
      "(array([0.01188404, 0.05658151, 0.17794871, 0.09460529, 0.09091633,\n",
      "       0.15178567, 0.18916029, 0.10195167, 0.07236864, 0.02554492,\n",
      "       0.01257685, 0.0146764 ]), 61)\n"
     ]
    }
   ],
   "source": [
    "# === YOUR CODE HERE ===\n",
    "print(PageRank(A,alpha=1))"
   ]
  },
  {
   "cell_type": "markdown",
   "metadata": {},
   "source": [
    "## (c) Note to police"
   ]
  },
  {
   "cell_type": "markdown",
   "metadata": {},
   "source": [
    "DOUBLE-CLICK TO PLACE YOUR COMMENTS HERE\n"
   ]
  },
  {
   "cell_type": "code",
   "execution_count": 7,
   "metadata": {},
   "outputs": [],
   "source": [
    "#node H is the most influencial, as it has the highest probability."
   ]
  }
 ],
 "metadata": {
  "kernelspec": {
   "display_name": "Python 3",
   "language": "python",
   "name": "python3"
  },
  "language_info": {
   "codemirror_mode": {
    "name": "ipython",
    "version": 3
   },
   "file_extension": ".py",
   "mimetype": "text/x-python",
   "name": "python",
   "nbconvert_exporter": "python",
   "pygments_lexer": "ipython3",
   "version": "3.7.10"
  }
 },
 "nbformat": 4,
 "nbformat_minor": 4
}
