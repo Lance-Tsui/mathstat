{
 "cells": [
  {
   "cell_type": "markdown",
   "metadata": {},
   "source": [
    "# A1Q3\n"
   ]
  },
  {
   "cell_type": "code",
   "execution_count": 1,
   "metadata": {},
   "outputs": [],
   "source": [
    "# Standard imports\n",
    "import numpy as np\n",
    "import math\n",
    "import matplotlib.pyplot as plt"
   ]
  },
  {
   "cell_type": "markdown",
   "metadata": {},
   "source": [
    "# (a) Implement `PowerSin(x)`"
   ]
  },
  {
   "cell_type": "code",
   "execution_count": 2,
   "metadata": {},
   "outputs": [],
   "source": [
    "def PowerSin(x):\n",
    "    '''\n",
    "     sum, n = PowerSin(x)\n",
    "     \n",
    "     Computes an approximation of the sin function using a power series.\n",
    "     \n",
    "     Input:\n",
    "      x    scalar value\n",
    "      \n",
    "     Output:\n",
    "      sum  scalar value\n",
    "      n    the number of terms used in the series\n",
    "    '''\n",
    "    sum = 0\n",
    "    while x >= 2 * np.pi:\n",
    "        x -= 2 * np.pi\n",
    "    term = x\n",
    "    n = 2\n",
    "    while (sum + term) != sum:\n",
    "        \n",
    "        sum += term\n",
    "        term = math.pow(-1,n-1)*(math.pow(x,2*n-1))/math.factorial(2*n-1)       \n",
    "        n += 1\n",
    "    # YOUR CODE HERE\n",
    "    \n",
    "    return sum, n"
   ]
  },
  {
   "cell_type": "code",
   "execution_count": 3,
   "metadata": {},
   "outputs": [
    {
     "name": "stdout",
     "output_type": "stream",
     "text": [
      "0.49999999999999994\n",
      "0.49999999999999994\n",
      "10 terms\n"
     ]
    }
   ],
   "source": [
    "val, n = PowerSin(np.pi/6.)\n",
    "print(math.sin(np.pi/6))\n",
    "print(val)\n",
    "print(f'{n} terms')"
   ]
  },
  {
   "cell_type": "markdown",
   "metadata": {},
   "source": [
    "# (b) Plot"
   ]
  },
  {
   "cell_type": "code",
   "execution_count": 4,
   "metadata": {},
   "outputs": [
    {
     "data": {
      "image/png": "[encoded data removed]",
      "text/plain": [
       "<Figure size 432x288 with 1 Axes>"
      ]
     },
     "metadata": {
      "needs_background": "light"
     },
     "output_type": "display_data"
    }
   ],
   "source": [
    "# YOUR CODE HERE\n",
    "\n",
    "x = np.arange(0, 2 * np.pi, 0.1) \n",
    "y=[]\n",
    "for i in x:\n",
    "    val, n = PowerSin(i)\n",
    "    y.append(val)\n",
    "plt.title(\"Matplotlib demo\") \n",
    "plt.xlabel(\"x axis\") \n",
    "plt.ylabel(\"y axis\") \n",
    "plt.plot(x,y) \n",
    "plt.show()"
   ]
  },
  {
   "cell_type": "markdown",
   "metadata": {},
   "source": [
    "# (c)"
   ]
  },
  {
   "cell_type": "markdown",
   "metadata": {},
   "source": [
    "when the difference between (sum + term) and sum is less than machine epsilon"
   ]
  },
  {
   "cell_type": "markdown",
   "metadata": {},
   "source": [
    "# (d) Error of `PowerSin`"
   ]
  },
  {
   "cell_type": "code",
   "execution_count": 5,
   "metadata": {},
   "outputs": [
    {
     "name": "stdout",
     "output_type": "stream",
     "text": [
      "[[1.0000000000000002, -1.0000000000000016, 1.0000000000000002, -1.0000000000000016], [1.0, -1.0, 1.0, -1.0]]\n"
     ]
    }
   ],
   "source": [
    "# YOUR CODE HERE\n",
    "\n",
    "floating=[]\n",
    "default=[]\n",
    "val, n = PowerSin(np.pi/2)\n",
    "floating.append(val)\n",
    "default.append(math.sin(math.pi/2))\n",
    "val, n = PowerSin(11 * np.pi/2)\n",
    "floating.append(val)\n",
    "default.append(math.sin(11 * math.pi/2))\n",
    "val, n = PowerSin(21 * np.pi/2)\n",
    "floating.append(val)\n",
    "default.append(math.sin(21 * math.pi/2))\n",
    "val, n = PowerSin(31 * np.pi/2)\n",
    "floating.append(val)\n",
    "default.append(math.sin(31 * math.pi/2))\n",
    "\n",
    "data=[floating,default]\n",
    "\n",
    "print(data)\n"
   ]
  },
  {
   "cell_type": "markdown",
   "metadata": {},
   "source": [
    "# (e) Conclusions"
   ]
  },
  {
   "cell_type": "markdown",
   "metadata": {},
   "source": [
    "it has more precision than the default method in python."
   ]
  }
 ],
 "metadata": {
  "kernelspec": {
   "display_name": "Python 3",
   "language": "python",
   "name": "python3"
  },
  "language_info": {
   "codemirror_mode": {
    "name": "ipython",
    "version": 3
   },
   "file_extension": ".py",
   "mimetype": "text/x-python",
   "name": "python",
   "nbconvert_exporter": "python",
   "pygments_lexer": "ipython3",
   "version": "3.7.10"
  }
 },
 "nbformat": 4,
 "nbformat_minor": 4
}
