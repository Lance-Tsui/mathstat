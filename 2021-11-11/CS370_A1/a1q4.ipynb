{
 "cells": [
  {
   "cell_type": "markdown",
   "metadata": {},
   "source": [
    "# A1Q4 Bank Fraud\n"
   ]
  },
  {
   "cell_type": "code",
   "execution_count": 1,
   "metadata": {},
   "outputs": [],
   "source": [
    "# Standard imports\n",
    "import numpy as np\n",
    "import math\n",
    "import matplotlib.pyplot as plt"
   ]
  },
  {
   "cell_type": "markdown",
   "metadata": {},
   "source": [
    "### Supplied Code (do not edit)"
   ]
  },
  {
   "cell_type": "code",
   "execution_count": 2,
   "metadata": {},
   "outputs": [],
   "source": [
    "def ReceiveTransactions():\n",
    "    '''\n",
    "     credit, debit = ReceiveTransactions()\n",
    "    \n",
    "     Returns two 10000x1 single-precision arrays of transactions.\n",
    "       credit has all positive values\n",
    "       debit has all negative values\n",
    "    '''\n",
    "    N = 50000\n",
    "\n",
    "    credit = np.float32(abs(np.random.randn(N)))*40000.\n",
    "    debit  = np.float32(abs(np.random.randn(N)))*40000.\n",
    "\n",
    "    credit = np.round(credit, decimals=2)\n",
    "    debit  = np.round(debit, decimals=2)\n",
    "\n",
    "    return [credit, debit]"
   ]
  },
  {
   "cell_type": "code",
   "execution_count": 3,
   "metadata": {},
   "outputs": [],
   "source": [
    "def CalculateNet(credit, debit):\n",
    "    '''\n",
    "     net = CalculateNet(credit, debit)\n",
    "\n",
    "     Add together the credits and debits to get the net income.\n",
    "\n",
    "     Input\n",
    "       credit:  An array of positive values\n",
    "       debit:   An array of negative values\n",
    "\n",
    "     Output\n",
    "       net:     The result from adding up all the credits and debits\n",
    "    '''\n",
    "\n",
    "    scredit = np.sort(credit)\n",
    "    sdebit  = np.sort(debit)\n",
    "\n",
    "    # Method A\n",
    "    netA = np.sum(credit) - np.sum(debit)\n",
    "    \n",
    "    # Method B\n",
    "    netB = np.sum(credit)\n",
    "    for d in sdebit:\n",
    "        netB -= d\n",
    "\n",
    "    # Method C\n",
    "    netC = np.float32(0.)\n",
    "    for c,d in zip(scredit, sdebit):\n",
    "        netC += c - d\n",
    "    net = np.min([netA, netB, netC])\n",
    "\n",
    "    return net"
   ]
  },
  {
   "cell_type": "markdown",
   "metadata": {
    "tags": []
   },
   "source": [
    "### Process a set of transactions"
   ]
  },
  {
   "cell_type": "code",
   "execution_count": 4,
   "metadata": {},
   "outputs": [
    {
     "name": "stdout",
     "output_type": "stream",
     "text": [
      "Net income: 7343616.0\n"
     ]
    }
   ],
   "source": [
    "c, d = ReceiveTransactions()\n",
    "\n",
    "net_income = CalculateNet(c, d)\n",
    "\n",
    "print('Net income: '+str(net_income))"
   ]
  },
  {
   "cell_type": "markdown",
   "metadata": {},
   "source": [
    "### (a)"
   ]
  },
  {
   "cell_type": "markdown",
   "metadata": {},
   "source": [
    "I ran this function several times. Method C is the most accurate, as the error is kept in small values, which minimize the consequence of catastrophic cancellation. The accuracy is followed by A, this is because it uses np.sum(x), which promises accuracy in some level. Method A also just have one subtraction. The lease accurate one is Method B, there exists most number of subtraction, therefore, it may cause maximum catastrophic cancellation."
   ]
  },
  {
   "cell_type": "markdown",
   "metadata": {},
   "source": [
    "### (b)"
   ]
  },
  {
   "cell_type": "markdown",
   "metadata": {},
   "source": [
    "There is a crime in it. There exist errors in the operation of the bank, which is pretty normal. Normally, the errors can be deducted as it either goes up or down, where it makes a compensation. However, in this algorithm, the minimum value is taken. Which means that the minus error values cannot be compensated by plus error values. Therefore, somebody can use the money caused by accumulation of errors."
   ]
  },
  {
   "cell_type": "code",
   "execution_count": null,
   "metadata": {},
   "outputs": [],
   "source": []
  }
 ],
 "metadata": {
  "kernelspec": {
   "display_name": "Python 3",
   "language": "python",
   "name": "python3"
  },
  "language_info": {
   "codemirror_mode": {
    "name": "ipython",
    "version": 3
   },
   "file_extension": ".py",
   "mimetype": "text/x-python",
   "name": "python",
   "nbconvert_exporter": "python",
   "pygments_lexer": "ipython3",
   "version": "3.7.10"
  }
 },
 "nbformat": 4,
 "nbformat_minor": 4
}
