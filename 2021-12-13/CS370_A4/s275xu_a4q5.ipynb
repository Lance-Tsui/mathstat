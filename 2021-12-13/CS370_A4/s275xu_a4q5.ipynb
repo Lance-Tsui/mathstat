{
 "cells": [
  {
   "cell_type": "markdown",
   "metadata": {},
   "source": [
    "# A4-Q5: Parametric Spline"
   ]
  },
  {
   "cell_type": "code",
   "execution_count": null,
   "metadata": {},
   "outputs": [],
   "source": [
    "import numpy as np\n",
    "from scipy.interpolate import make_interp_spline\n",
    "import matplotlib.pyplot as plt"
   ]
  },
  {
   "cell_type": "markdown",
   "metadata": {},
   "source": [
    "## (a) Write your nickname and display it"
   ]
  },
  {
   "cell_type": "code",
   "execution_count": null,
   "metadata": {},
   "outputs": [
    {
     "data": {
      "text/plain": [
       "<Figure size 720x360 with 0 Axes>"
      ]
     },
     "execution_count": 2,
     "metadata": {},
     "output_type": "execute_result"
    },
    {
     "data": {
      "text/plain": [
       "<Figure size 720x360 with 0 Axes>"
      ]
     },
     "metadata": {},
     "output_type": "display_data"
    }
   ],
   "source": [
    "# Display nickname image\n",
    "f = plt.imread('lance.png')\n",
    "plt.figure(figsize=(10,5))\n",
    "\n"
   ]
  },
  {
   "cell_type": "markdown",
   "metadata": {},
   "source": [
    "## (b) Hardcode interpolation points"
   ]
  },
  {
   "cell_type": "code",
   "execution_count": null,
   "metadata": {},
   "outputs": [
    {
     "data": {
      "text/plain": [
       "[<matplotlib.lines.Line2D at 0x7fc0e3a1d890>]"
      ]
     },
     "execution_count": 3,
     "metadata": {},
     "output_type": "execute_result"
    },
    {
     "data": {
      "image/png": "[encoded data removed]",
      "text/plain": [
       "<Figure size 432x288 with 1 Axes>"
      ]
     },
     "metadata": {
      "needs_background": "light"
     },
     "output_type": "display_data"
    }
   ],
   "source": [
    "# === YOUR CODE HERE ===\n",
    "\n",
    "\n",
    "Sx = np.array([133, 115, 100, 75, 50, 55, 60, 65, 75, 80, \n",
    "               240, 235, 200, 180, 200, 225, 240, 250, 260, 310, \n",
    "               323, 324, 350, 375, 400, 399, 397, 425, 450, 475,\n",
    "               600, 585, 550, 525, 550, 575, 600, 630, 655, 670,\n",
    "               690, 720, 755, 720, 700, 673, 680, 685, 690, 700, 735, 770, 800, 840, 870])\n",
    "lx = Sx[0:10]\n",
    "ax = Sx[10:20]\n",
    "nx = Sx[20:30]\n",
    "cx = Sx[30:40]\n",
    "ex = Sx[40:55]\n",
    "\n",
    "Sy = np.array([245, 240, 237, 238, 240, 200, 175, 150, 120, 70, \n",
    "               200, 170, 175, 200, 245, 235, 200, 230, 248, 215, \n",
    "               247, 217, 180, 175, 185, 224, 245, 250, 242, 235,\n",
    "               165, 160, 175, 200, 240, 239, 233, 222, 213, 192,\n",
    "               195, 200, 183, 153, 161, 190, 235, 240, 245, 249, 245, 243, 235, 230, 223])\n",
    "\n",
    "ly = Sy[0:10]\n",
    "ay = Sy[10:20]\n",
    "\n",
    "ny = Sy[20:30]\n",
    "cy = Sy[30:40]\n",
    "ey = Sy[40:55]\n",
    "\n",
    "plt.imshow(f)\n",
    "plt.plot(Sx, Sy, 'ro')"
   ]
  },
  {
   "cell_type": "markdown",
   "metadata": {},
   "source": [
    "## (c) `ParametricSpline`"
   ]
  },
  {
   "cell_type": "code",
   "execution_count": null,
   "metadata": {},
   "outputs": [],
   "source": [
    "def ParametricSpline(Sx,Sy):\n",
    "    '''\n",
    "     x_cs, y_cs, t = ParametricSpline(Sx,Sy)\n",
    "\n",
    "       Takes an array of x- and y-values, and returns a parametric\n",
    "       cubic spline in the form of two piecewise-cubic data structures\n",
    "       (one for the x-component and one for the y-component), as well as\n",
    "       the corresponding parameter values.\n",
    "       \n",
    "       The splines use natural boundary conditions.\n",
    "\n",
    "       Input:\n",
    "        Sx   array of x-values\n",
    "        Sy   array of y-values\n",
    "\n",
    "       Output:\n",
    "        x_cs function that evaluates the cubic spline for x-component\n",
    "        y_cs function that evaluates the cubic spline for y-component\n",
    "        t is the array of parameter values use for the splines\n",
    "\n",
    "       Note that x_cs(t) and y_cs(t) give Sx and Sy, respectively.\n",
    "    '''\n",
    "\n",
    "    # These lines are just placeholders... replace them\n",
    "    x_cs = lambda t:[0]\n",
    "    y_cs = lambda t:[0]\n",
    "    t = np.zeros_like(Sx)\n",
    "    # === YOUR CODE HERE ===\n",
    "    t[0] = 0\n",
    "    for i in range(1,len(Sx)):\n",
    "        diffx = np.square(Sx[i] - Sx[i - 1])\n",
    "        diffy = np.square(Sy[i] - Sy[i - 1])\n",
    "        \n",
    "        t[i] = t[i - 1] + np.sqrt(diffx + diffy)\n",
    "    x_cs = make_interp_spline(t, Sx)\n",
    "    y_cs = make_interp_spline(t, Sy)\n",
    "    return x_cs, y_cs, t"
   ]
  },
  {
   "cell_type": "markdown",
   "metadata": {},
   "source": [
    "## (d) Find parametric splines for each segment"
   ]
  },
  {
   "cell_type": "code",
   "execution_count": null,
   "metadata": {},
   "outputs": [],
   "source": [
    "# === YOUR CODE HERE ===\n",
    "# five Sx and five Sy, since Lance has 5 letters\n",
    "funclx, funcly, t = ParametricSpline(lx,ly)\n",
    "funcax, funcay, t = ParametricSpline(ax,ay)\n",
    "funcnx, funcny, t = ParametricSpline(nx, ny)\n",
    "funccx, funccy, t = ParametricSpline(cx, cy)\n",
    "funcex, funcey, t = ParametricSpline(ex, ey)"
   ]
  },
  {
   "cell_type": "markdown",
   "metadata": {},
   "source": [
    "## (e) Plot the segments"
   ]
  },
  {
   "cell_type": "code",
   "execution_count": null,
   "metadata": {},
   "outputs": [
    {
     "data": {
      "text/plain": [
       "[<matplotlib.lines.Line2D at 0x7fc0db0c8e50>]"
      ]
     },
     "execution_count": 6,
     "metadata": {},
     "output_type": "execute_result"
    },
    {
     "data": {
      "image/png": "[encoded data removed]",
      "text/plain": [
       "<Figure size 432x288 with 1 Axes>"
      ]
     },
     "metadata": {
      "needs_background": "light"
     },
     "output_type": "display_data"
    }
   ],
   "source": [
    "# === YOUR CODE HERE ===\n",
    "plt.axis([0,1000,300,0])\n",
    "t1 = np.arange(0,200,1)\n",
    "plt.plot(funclx(t1), funcly(t1))\n",
    "t2 = np.arange(0,275,1)\n",
    "plt.plot(funcax(t2), funcay(t2))\n",
    "t3 = np.arange(0,200,1)\n",
    "plt.plot(funcnx(t3), funcny(t3))\n",
    "t4 = np.arange(0,275,1)\n",
    "plt.plot(funccx(t4), funccy(t4))\n",
    "t5 = np.arange(0,400,1)\n",
    "plt.plot(funcex(t5), funcey(t5))"
   ]
  },
  {
   "cell_type": "code",
   "execution_count": null,
   "metadata": {},
   "outputs": [],
   "source": []
  }
 ],
 "metadata": {
  "kernelspec": {
   "display_name": "Python 3",
   "language": "python",
   "name": "python3"
  },
  "language_info": {
   "codemirror_mode": {
    "name": "ipython",
    "version": 3
   },
   "file_extension": ".py",
   "mimetype": "text/x-python",
   "name": "python",
   "nbconvert_exporter": "python",
   "pygments_lexer": "ipython3",
   "version": "3.7.10"
  }
 },
 "nbformat": 4,
 "nbformat_minor": 4
}
