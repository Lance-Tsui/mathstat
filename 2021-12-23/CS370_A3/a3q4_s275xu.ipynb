{
 "cells": [
  {
   "cell_type": "markdown",
   "metadata": {},
   "source": [
    "# A3-Q4: Golf Driving Range"
   ]
  },
  {
   "cell_type": "code",
   "execution_count": 1,
   "metadata": {},
   "outputs": [],
   "source": [
    "import numpy as np\n",
    "from copy import deepcopy\n",
    "import matplotlib.pyplot as plt"
   ]
  },
  {
   "cell_type": "code",
   "execution_count": 2,
   "metadata": {},
   "outputs": [],
   "source": [
    "# Supplied functions\n",
    "def Ground(d):\n",
    "    '''\n",
    "     h = Ground(d)\n",
    "     \n",
    "     Returns the height (in metres) of the ground at a horizontal distance\n",
    "     d (metres) from the origin.\n",
    "    '''\n",
    "    return np.sin(d/3.) - 3.*np.sin(d/10.)\n",
    "\n",
    "def GroundSlope(d):\n",
    "    '''\n",
    "     h = GroundSlope(d)\n",
    "     \n",
    "     Returns the slope of the ground at a horizontal distance\n",
    "     d (metres) from the origin.\n",
    "    '''\n",
    "    return 1./3*np.cos(d/3) - 3./10*np.cos(d/10.)"
   ]
  },
  {
   "cell_type": "markdown",
   "metadata": {},
   "source": [
    "## (a) MyOde"
   ]
  },
  {
   "cell_type": "code",
   "execution_count": 3,
   "metadata": {},
   "outputs": [],
   "source": [
    "def MyOde(f, tspan, y0, h, event=(lambda t,y:1)):\n",
    "    '''\n",
    "     t,y = MyOde(f, tspan, y0, h, event=[])\n",
    "    \n",
    "     Numerically solves the initial value problem\n",
    "    \n",
    "        dy(t)/dt = f(t,y)\n",
    "            y(0) = y0\n",
    "    \n",
    "     using the Modified Euler time-stepping method.\n",
    "    \n",
    "     Input\n",
    "       f       a Python dynamics function with calling sequence\n",
    "                  dydt = f(t, y)\n",
    "       tspan   2-tuple giving the start and end times, [start, end]\n",
    "       y0      initial state of the system (as a 1D vector)\n",
    "       h       the time step to use (this is not adaptive time stepping)\n",
    "       events  an event function with calling sequence\n",
    "                  val = events(t, y)\n",
    "               The computation stops as soon as a negative value is\n",
    "               returned by the event function.\n",
    "    \n",
    "     Output\n",
    "       t       1D vector holding time stamps\n",
    "       y       an array that holds one state vector per row (corresponding\n",
    "               to the time stamps)\n",
    "    \n",
    "       Notes:\n",
    "           - t and y have the same number of rows.\n",
    "    \n",
    "           - The first element of t should be tspan[0], and the first\n",
    "             row of y should be the initial state, y0.\n",
    "             \n",
    "           - The event function is NOT called until the second time step.\n",
    "    \n",
    "           - If the computation was stopped by the triggering of an event,\n",
    "             then the last row of t and y should correspond to the\n",
    "             time that linear interpolation indicates for the zero-crossing\n",
    "             of the event-function.\n",
    "    '''\n",
    "    \n",
    "    # Initialize output arrays, tlst and ylst\n",
    "    t = tspan[0]\n",
    "    y = deepcopy(y0)\n",
    "    \n",
    "    tlst = []\n",
    "    ylst = []\n",
    "    \n",
    "    tlst.append(t)\n",
    "    ylst.append(list(y))\n",
    "\n",
    "    # === YOUR CODE HERE ===\n",
    "    t1 = t\n",
    "    while t1 <= tspan[1]:\n",
    "        # modified eular method\n",
    "        # y(i+1) = y(i) + 1/2 * (Slope(left) + Slope(right))\n",
    "        f0 = f(t,y)\n",
    "        f1 = f(t + h, y + h * f0)\n",
    "        y1 = y + h * (f0 + f1) / 2\n",
    "        t = t + h\n",
    "        y = y + h * f0\n",
    "        tlst.append(t)\n",
    "        ylst.append(list(y))\n",
    "        result = event(t, y)\n",
    "        \n",
    "        \n",
    "        if result < 0:\n",
    "            # remove the negative item\n",
    "            del tlst[-1]\n",
    "            del ylst[-1]\n",
    "            \n",
    "            tstep = (ylst[-1][1]) / (ylst[-2][1] - ylst[-1][1])\n",
    "            \n",
    "            # adding the value where val is 0\n",
    "            newylst = []\n",
    "            for ycount in range(4):\n",
    "                newylst.append(ylst[-1][ycount] + (ylst[-1][ycount] - ylst[-2][ycount]) * tstep)\n",
    "            newylst[1] = Ground(newylst[0])\n",
    "            tlst.append(tlst[-1] + tstep)\n",
    "            ylst.append(newylst)\n",
    "            # exit the loop\n",
    "            break\n",
    "\n",
    "    # Return the time stamps, and corresponding solutions\n",
    "    return tlst, np.array(ylst)"
   ]
  },
  {
   "cell_type": "markdown",
   "metadata": {},
   "source": [
    "## (b) Dynamics Function: `projectile`"
   ]
  },
  {
   "cell_type": "code",
   "execution_count": 4,
   "metadata": {},
   "outputs": [],
   "source": [
    "def projectile(t, z):\n",
    "    dzdt = np.zeros_like(z)\n",
    "    \n",
    "    # === YOUR CODE HERE ===\n",
    "    \n",
    "    # constant K, this time 1/2\n",
    "    K = 1/2\n",
    "    # constant g, this time 9.81\n",
    "    g = 9.81\n",
    "    # x'(t)\n",
    "    dzdt[0] = z[2]\n",
    "    # y'(t)\n",
    "    dzdt[1] = z[3]\n",
    "    # x''(t) = - Kx'(t)\n",
    "    dzdt[2] = -K * z[2]\n",
    "    # y''(t) = - g - Ky'(t)\n",
    "    dzdt[3] = - g - K * z[3]\n",
    "    return dzdt"
   ]
  },
  {
   "cell_type": "markdown",
   "metadata": {},
   "source": [
    "## (c) Events Function: `projectile_events`"
   ]
  },
  {
   "cell_type": "code",
   "execution_count": 5,
   "metadata": {},
   "outputs": [],
   "source": [
    "def projectile_events(t, z):\n",
    "    val = 1\n",
    "    \n",
    "    # === YOUR CODE HERE ===\n",
    "    val = z[1] - Ground(z[0])\n",
    "    return val"
   ]
  },
  {
   "cell_type": "markdown",
   "metadata": {},
   "source": [
    "## (d) Two flights"
   ]
  },
  {
   "cell_type": "code",
   "execution_count": 6,
   "metadata": {},
   "outputs": [],
   "source": [
    "# Here is the code for one sample flight.\n",
    "theta = 45\n",
    "S = 70\n",
    "tspan = [0, 30]\n",
    "h = 0.05\n",
    "theta_rad = theta/180.*np.pi\n",
    "yStart = np.array([0, 0, S*np.cos(theta_rad), S*np.sin(theta_rad)])\n",
    "t,y = MyOde(projectile, tspan, yStart, h, projectile_events)\n",
    "\n",
    "# the last value of y\n",
    "yEnd = y[-1]\n",
    "# vector of v\n",
    "v = [yEnd[2], yEnd[3]]\n",
    "# get slope\n",
    "kslope = GroundSlope(yEnd[0])\n",
    "# get u and U's value\n",
    "coeff = [(1+kslope), 0, -1]\n",
    "u = []\n",
    "u.append(abs(np.roots(coeff)[0]))\n",
    "u.append(np.sqrt(1 - pow(np.roots(coeff)[0],2)))\n",
    "U = [u[1], -u[0]]\n",
    "u = np.array(u)\n",
    "U = np.array(U)\n",
    "v = np.array(v)\n",
    "# calculate V's value, using vdot\n",
    "V = 0.85 * (np.vdot(v,u) * u - np.vdot(v,U) * U)\n",
    "# assign back to yEnd\n",
    "yEnd[2] = V[0]\n",
    "yEnd[3] = V[1]\n",
    "tspan2 = [0,100]\n",
    "h2 = 0.05\n",
    "yEnd = np.array(yEnd)\n",
    "t2, y2 = MyOde(projectile, tspan2, yEnd, h2, projectile_events)"
   ]
  },
  {
   "cell_type": "code",
   "execution_count": null,
   "metadata": {},
   "outputs": [],
   "source": []
  },
  {
   "cell_type": "code",
   "execution_count": 7,
   "metadata": {},
   "outputs": [
    {
     "data": {
      "image/png": "[encoded data removed]",
      "text/plain": [
       "<Figure size 720x288 with 1 Axes>"
      ]
     },
     "metadata": {
      "needs_background": "light"
     },
     "output_type": "display_data"
    }
   ],
   "source": [
    "# Plot the ground\n",
    "x = np.linspace(-10, 150, 300)\n",
    "hills = Ground(x)\n",
    "plt.figure(figsize=[10,4])\n",
    "plt.plot(x,hills, 'k')\n",
    "plt.axis('equal')\n",
    "plt.plot([0],[0], 'ko')   # Plot initial ball position\n",
    "plt.plot(y[:,0], y[:,1])  # Plot ball trajectory\n",
    "plt.plot(y2[:,0], y2[:,1])  # Plot ball trajectory\n",
    "plt.plot(y2[-1,0], y2[-1,1], 'ko')  # Plot final ball position\n",
    "\n",
    "plt.title(r'$\\theta$ = '+str(theta)+'$^\\circ$');\n",
    "plt.xlabel('Distance (m)')\n",
    "plt.ylabel('Height (m)');\n"
   ]
  },
  {
   "cell_type": "code",
   "execution_count": null,
   "metadata": {
    "scrolled": true
   },
   "outputs": [],
   "source": []
  },
  {
   "cell_type": "markdown",
   "metadata": {},
   "source": [
    "## (e) Optimal $\\theta$"
   ]
  },
  {
   "cell_type": "markdown",
   "metadata": {},
   "source": [
    "Double-click to answer here.\n"
   ]
  },
  {
   "cell_type": "code",
   "execution_count": null,
   "metadata": {},
   "outputs": [],
   "source": []
  }
 ],
 "metadata": {
  "kernelspec": {
   "display_name": "Python 3",
   "language": "python",
   "name": "python3"
  },
  "language_info": {
   "codemirror_mode": {
    "name": "ipython",
    "version": 3
   },
   "file_extension": ".py",
   "mimetype": "text/x-python",
   "name": "python",
   "nbconvert_exporter": "python",
   "pygments_lexer": "ipython3",
   "version": "3.7.10"
  }
 },
 "nbformat": 4,
 "nbformat_minor": 4
}
