{
 "cells": [
  {
   "cell_type": "markdown",
   "metadata": {},
   "source": [
    "# A3-Q5: Time of Death"
   ]
  },
  {
   "cell_type": "code",
   "execution_count": 1,
   "metadata": {},
   "outputs": [],
   "source": [
    "import numpy as np\n",
    "from scipy.integrate import solve_ivp\n",
    "import matplotlib.pyplot as plt"
   ]
  },
  {
   "cell_type": "markdown",
   "metadata": {},
   "source": [
    "## (a) Dynamics Function"
   ]
  },
  {
   "cell_type": "code",
   "execution_count": 2,
   "metadata": {},
   "outputs": [],
   "source": [
    "# Dynamics function\n",
    "# === YOUR CODE HERE ===\n",
    "\n",
    "# helper function\n",
    "\n",
    "# from 9 to next day's 11\n",
    "# total 26 hours\n",
    "# 9 is the starting point, we record it as 0\n",
    "# returns an integer\n",
    "# start time is important\n",
    "# we deduce when Robert dies, comparing to 9am\n",
    "# for instance, if Robert died in 4pm, the start time will be 7\n",
    "def roomTemp(t,start):\n",
    "    final = t + start\n",
    "    if final <= 9:\n",
    "        return 22\n",
    "    elif 9 < final <= 11:\n",
    "        return 22 - (final - 9) * 3.5\n",
    "    elif 11 < final <= 22:\n",
    "        return 15\n",
    "    elif 22 < final <= 22.5:\n",
    "        return 15 + (final-22) * 14\n",
    "    else:\n",
    "        return 22\n",
    "    \n",
    "\n",
    "def bodyTemp(T,t,A,B):\n",
    "    k = -0.15\n",
    "    \n",
    "    dydt = k * (T - roomTemp(t,7)) + (A + 2 * B) / 100\n",
    "    \n",
    "    return dydt\n",
    "\n",
    "def bacA(T,A):\n",
    "    k = 0.0015\n",
    "    if 29 <= T <= 45:\n",
    "        dydt = k * pow(T - 29, 2) * (1 - np.exp(0.08 * (T - 45))) * A * (30 - A)\n",
    "    else:\n",
    "        dydt = 0\n",
    "    return dydt\n",
    "\n",
    "def bacB(T,B):\n",
    "    k = 0.002\n",
    "    if 13 <= T <= 26:\n",
    "        dydt = k * pow(T - 13, 2) * (1 - np.exp(0.05 * (T - 26))) * B * (20 - B)\n",
    "    else:\n",
    "        dydt = 0\n",
    "    return dydt\n",
    "\n",
    "def f(t, y):\n",
    "    return np.array([bacA(y[2], y[0]), bacB(y[2],y[1]), bodyTemp(y[2], t, y[0], y[1])])\n"
   ]
  },
  {
   "cell_type": "code",
   "execution_count": null,
   "metadata": {},
   "outputs": [],
   "source": []
  },
  {
   "cell_type": "markdown",
   "metadata": {},
   "source": [
    "## (b) Run the simulation"
   ]
  },
  {
   "cell_type": "code",
   "execution_count": 3,
   "metadata": {},
   "outputs": [],
   "source": [
    "# === YOUR CODE HERE ===\n",
    "# initial condition\n",
    "\n",
    "A0 = 1\n",
    "B0 = 1\n",
    "T0 = 37.5\n",
    "\n"
   ]
  },
  {
   "cell_type": "code",
   "execution_count": 4,
   "metadata": {},
   "outputs": [
    {
     "data": {
      "image/png": "[encoded data removed]",
      "text/plain": [
       "<Figure size 432x288 with 1 Axes>"
      ]
     },
     "metadata": {
      "needs_background": "light"
     },
     "output_type": "display_data"
    }
   ],
   "source": [
    "# Plot body temp, A, and B, and display the final state.\n",
    "\n",
    "# === YOUR CODE HERE ===\n",
    "\n",
    "# time points\n",
    "tspan = (0.0,30.0)\n",
    "t = np.linspace(0,30)\n",
    "\n",
    "# y0\n",
    "y0=[A0,B0,T0]\n",
    "\n",
    "# solve ODE\n",
    "sol = solve_ivp(f,t_span = tspan, y0=y0, t_eval = t)\n",
    "\n",
    "plt.hlines(y=8.3, xmin=0, xmax=30, colors='aqua', linestyles='-', lw=1, label='expected conc(A)')\n",
    "plt.hlines(y=19.2, xmin=0, xmax=30, colors='#114514', linestyles='-', lw=1, label='expected conc(B)')\n",
    "plt.hlines(y=21.5, xmin=0, xmax=30, colors='yellow', linestyles='-', lw=1, label='expected T')\n",
    "for i in range(sol.y.shape[0]):\n",
    "    plt.plot(sol.t, sol.y[i], label=f'$X_{i}(t)$')\n",
    "\n",
    "plt.xlabel('$t$') # the horizontal axis represents the time \n",
    "plt.legend() # show how the colors correspond to the components of X\n",
    "\n",
    "plt.show()"
   ]
  },
  {
   "cell_type": "markdown",
   "metadata": {},
   "source": [
    "## (c) Prime Suspect"
   ]
  },
  {
   "cell_type": "markdown",
   "metadata": {},
   "source": [
    "Double-click to answer here.<br>\n"
   ]
  },
  {
   "cell_type": "code",
   "execution_count": 5,
   "metadata": {},
   "outputs": [],
   "source": [
    "# Dennis Rillerson killed Robert Durst. First, we detect the time by changing the start time. If the start time is 0, \n",
    "# then Robert was killed at 9 am. As the time range could be between 9 am to 6 pm, we detect the possible time by changing\n",
    "# the start time variable.\n",
    "# x0 is Bac(A)'s concentration, x1 is Bac(B)'s concentration, x2 is Bac(C)'s concentration, as the graph shown\n",
    "# Actually from the start time = 0, we can see thatafter 26 hours, the interpolation point of bodyTemp and Exp(BodyTemp),\n",
    "# conc(B) and Exp(concB) does not match.\n",
    "# we keep changing the start time, until I found when start time is 7\n",
    "# at this time, when t = 18.5, we can see 16 + 18.5 = 34.5, equal to the time of finding his death\n",
    "# we can see three interpolations, temperature, bac A's concentration, and bac B's concentration\n",
    "# therefore, Robert Durst died 4pm on the previous day\n",
    "# since Dennis' activity was unconfirmed, we can say that\n",
    "# Dennis Rillerson killer Robert Durst."
   ]
  }
 ],
 "metadata": {
  "kernelspec": {
   "display_name": "Python 3",
   "language": "python",
   "name": "python3"
  },
  "language_info": {
   "codemirror_mode": {
    "name": "ipython",
    "version": 3
   },
   "file_extension": ".py",
   "mimetype": "text/x-python",
   "name": "python",
   "nbconvert_exporter": "python",
   "pygments_lexer": "ipython3",
   "version": "3.7.10"
  }
 },
 "nbformat": 4,
 "nbformat_minor": 4
}
