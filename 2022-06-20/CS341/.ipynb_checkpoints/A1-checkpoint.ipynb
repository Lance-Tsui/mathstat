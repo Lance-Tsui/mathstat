{
 "cells": [
  {
   "cell_type": "code",
   "execution_count": null,
   "id": "d867b11a-c335-4475-8aff-7e0d37f3e660",
   "metadata": {},
   "outputs": [],
   "source": [
    "\n",
    "\n",
    "\n",
    "totalcount = int(input())\n",
    "\n",
    "\n",
    "for i in range(totalcount):\n",
    "    eachlength = int(input())\n",
    "    targetlist = []\n",
    "    for j in range(eachlength):\n",
    "        targetlist.append(float(input()))\n",
    "    print(targetlist)"
   ]
  },
  {
   "cell_type": "code",
   "execution_count": null,
   "id": "0d84a0ba-27bf-404c-9a40-4104e92a45bb",
   "metadata": {},
   "outputs": [],
   "source": []
  }
 ],
 "metadata": {
  "kernelspec": {
   "display_name": "Python 3",
   "language": "python",
   "name": "python3"
  },
  "language_info": {
   "codemirror_mode": {
    "name": "ipython",
    "version": 3
   },
   "file_extension": ".py",
   "mimetype": "text/x-python",
   "name": "python",
   "nbconvert_exporter": "python",
   "pygments_lexer": "ipython3",
   "version": "3.7.10"
  }
 },
 "nbformat": 4,
 "nbformat_minor": 5
}
