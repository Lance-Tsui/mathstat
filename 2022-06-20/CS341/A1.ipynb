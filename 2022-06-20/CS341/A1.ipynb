{
 "cells": [
  {
   "cell_type": "code",
   "execution_count": 1,
   "id": "d867b11a-c335-4475-8aff-7e0d37f3e660",
   "metadata": {},
   "outputs": [
    {
     "ename": "IndentationError",
     "evalue": "expected an indented block (<ipython-input-1-dcbe5674d9f0>, line 14)",
     "output_type": "error",
     "traceback": [
      "\u001b[0;36m  File \u001b[0;32m\"<ipython-input-1-dcbe5674d9f0>\"\u001b[0;36m, line \u001b[0;32m14\u001b[0m\n\u001b[0;31m    def findclosestpair(templist):\u001b[0m\n\u001b[0m      ^\u001b[0m\n\u001b[0;31mIndentationError\u001b[0m\u001b[0;31m:\u001b[0m expected an indented block\n"
     ]
    }
   ],
   "source": [
    "\n",
    "import math\n",
    "\n",
    "\n",
    "def dist(a, b):\n",
    "    return math.sqrt((a[0] - b[0]) *\n",
    "                     (a[0] - b[0]) +\n",
    "                     (a[1] - b[1]) *\n",
    "                     (a[1] - b[1]))\n",
    "\n",
    "def bruteforce():\n",
    "    \n",
    "\n",
    "\n",
    "def findclosestpair(templist):\n",
    "    distance = 0\n",
    "    firstindex = 0\n",
    "    secondindex = 0\n",
    "\n",
    "\n",
    "totalcount = int(input())\n",
    "\n",
    "\n",
    "for i in range(totalcount):\n",
    "    eachlength = int(input())\n",
    "    targetlist = []\n",
    "    for j in range(eachlength):\n",
    "        targetlist.append(list(map(float,input().split())))\n",
    "    print(targetlist)"
   ]
  },
  {
   "cell_type": "code",
   "execution_count": null,
   "id": "0d84a0ba-27bf-404c-9a40-4104e92a45bb",
   "metadata": {},
   "outputs": [],
   "source": [
    "\n"
   ]
  }
 ],
 "metadata": {
  "kernelspec": {
   "display_name": "Python 3",
   "language": "python",
   "name": "python3"
  },
  "language_info": {
   "codemirror_mode": {
    "name": "ipython",
    "version": 3
   },
   "file_extension": ".py",
   "mimetype": "text/x-python",
   "name": "python",
   "nbconvert_exporter": "python",
   "pygments_lexer": "ipython3",
   "version": "3.7.10"
  }
 },
 "nbformat": 4,
 "nbformat_minor": 5
}
